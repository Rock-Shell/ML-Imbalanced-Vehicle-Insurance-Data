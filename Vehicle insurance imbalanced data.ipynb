{
 "cells": [
  {
   "cell_type": "code",
   "execution_count": 1,
   "id": "4db83021",
   "metadata": {},
   "outputs": [],
   "source": [
    "# Ignore the warnings\n",
    "import warnings\n",
    "\n",
    "warnings.filterwarnings(\"ignore\")"
   ]
  },
  {
   "cell_type": "code",
   "execution_count": 2,
   "id": "95b46b80",
   "metadata": {},
   "outputs": [
    {
     "data": {
      "text/html": [
       "<div>\n",
       "<style scoped>\n",
       "    .dataframe tbody tr th:only-of-type {\n",
       "        vertical-align: middle;\n",
       "    }\n",
       "\n",
       "    .dataframe tbody tr th {\n",
       "        vertical-align: top;\n",
       "    }\n",
       "\n",
       "    .dataframe thead th {\n",
       "        text-align: right;\n",
       "    }\n",
       "</style>\n",
       "<table border=\"1\" class=\"dataframe\">\n",
       "  <thead>\n",
       "    <tr style=\"text-align: right;\">\n",
       "      <th></th>\n",
       "      <th>id</th>\n",
       "      <th>Gender</th>\n",
       "      <th>Age</th>\n",
       "      <th>Driving_License</th>\n",
       "      <th>Region_Code</th>\n",
       "      <th>Previously_Insured</th>\n",
       "      <th>Vehicle_Age</th>\n",
       "      <th>Vehicle_Damage</th>\n",
       "      <th>Annual_Premium</th>\n",
       "      <th>Policy_Sales_Channel</th>\n",
       "      <th>Vintage</th>\n",
       "      <th>Response</th>\n",
       "    </tr>\n",
       "  </thead>\n",
       "  <tbody>\n",
       "    <tr>\n",
       "      <th>0</th>\n",
       "      <td>167647</td>\n",
       "      <td>Male</td>\n",
       "      <td>22</td>\n",
       "      <td>1</td>\n",
       "      <td>7.0</td>\n",
       "      <td>1</td>\n",
       "      <td>&lt; 1 Year</td>\n",
       "      <td>No</td>\n",
       "      <td>2630.0</td>\n",
       "      <td>152.0</td>\n",
       "      <td>16</td>\n",
       "      <td>0</td>\n",
       "    </tr>\n",
       "    <tr>\n",
       "      <th>1</th>\n",
       "      <td>17163</td>\n",
       "      <td>Male</td>\n",
       "      <td>42</td>\n",
       "      <td>1</td>\n",
       "      <td>28.0</td>\n",
       "      <td>0</td>\n",
       "      <td>1-2 Year</td>\n",
       "      <td>Yes</td>\n",
       "      <td>43327.0</td>\n",
       "      <td>26.0</td>\n",
       "      <td>135</td>\n",
       "      <td>0</td>\n",
       "    </tr>\n",
       "    <tr>\n",
       "      <th>2</th>\n",
       "      <td>32023</td>\n",
       "      <td>Female</td>\n",
       "      <td>66</td>\n",
       "      <td>1</td>\n",
       "      <td>33.0</td>\n",
       "      <td>0</td>\n",
       "      <td>1-2 Year</td>\n",
       "      <td>Yes</td>\n",
       "      <td>35841.0</td>\n",
       "      <td>124.0</td>\n",
       "      <td>253</td>\n",
       "      <td>0</td>\n",
       "    </tr>\n",
       "    <tr>\n",
       "      <th>3</th>\n",
       "      <td>87447</td>\n",
       "      <td>Female</td>\n",
       "      <td>22</td>\n",
       "      <td>1</td>\n",
       "      <td>33.0</td>\n",
       "      <td>0</td>\n",
       "      <td>&lt; 1 Year</td>\n",
       "      <td>No</td>\n",
       "      <td>27645.0</td>\n",
       "      <td>152.0</td>\n",
       "      <td>69</td>\n",
       "      <td>0</td>\n",
       "    </tr>\n",
       "    <tr>\n",
       "      <th>4</th>\n",
       "      <td>501933</td>\n",
       "      <td>Male</td>\n",
       "      <td>28</td>\n",
       "      <td>1</td>\n",
       "      <td>46.0</td>\n",
       "      <td>1</td>\n",
       "      <td>&lt; 1 Year</td>\n",
       "      <td>No</td>\n",
       "      <td>29023.0</td>\n",
       "      <td>152.0</td>\n",
       "      <td>211</td>\n",
       "      <td>0</td>\n",
       "    </tr>\n",
       "  </tbody>\n",
       "</table>\n",
       "</div>"
      ],
      "text/plain": [
       "       id  Gender  Age  Driving_License  Region_Code  Previously_Insured  \\\n",
       "0  167647    Male   22                1          7.0                   1   \n",
       "1   17163    Male   42                1         28.0                   0   \n",
       "2   32023  Female   66                1         33.0                   0   \n",
       "3   87447  Female   22                1         33.0                   0   \n",
       "4  501933    Male   28                1         46.0                   1   \n",
       "\n",
       "  Vehicle_Age Vehicle_Damage  Annual_Premium  Policy_Sales_Channel  Vintage  \\\n",
       "0    < 1 Year             No          2630.0                 152.0       16   \n",
       "1    1-2 Year            Yes         43327.0                  26.0      135   \n",
       "2    1-2 Year            Yes         35841.0                 124.0      253   \n",
       "3    < 1 Year             No         27645.0                 152.0       69   \n",
       "4    < 1 Year             No         29023.0                 152.0      211   \n",
       "\n",
       "   Response  \n",
       "0         0  \n",
       "1         0  \n",
       "2         0  \n",
       "3         0  \n",
       "4         0  "
      ]
     },
     "execution_count": 2,
     "metadata": {},
     "output_type": "execute_result"
    }
   ],
   "source": [
    "import pandas as pd\n",
    "import numpy as np\n",
    "\n",
    "data = pd.read_csv(\"aug_train.csv\")\n",
    "data.head()"
   ]
  },
  {
   "cell_type": "code",
   "execution_count": 3,
   "id": "7ed291c0",
   "metadata": {},
   "outputs": [
    {
     "data": {
      "text/plain": [
       "(382154, 12)"
      ]
     },
     "execution_count": 3,
     "metadata": {},
     "output_type": "execute_result"
    }
   ],
   "source": [
    "data.shape"
   ]
  },
  {
   "cell_type": "code",
   "execution_count": 4,
   "id": "2373fdcb",
   "metadata": {
    "scrolled": false
   },
   "outputs": [
    {
     "data": {
      "text/html": [
       "<div>\n",
       "<style scoped>\n",
       "    .dataframe tbody tr th:only-of-type {\n",
       "        vertical-align: middle;\n",
       "    }\n",
       "\n",
       "    .dataframe tbody tr th {\n",
       "        vertical-align: top;\n",
       "    }\n",
       "\n",
       "    .dataframe thead th {\n",
       "        text-align: right;\n",
       "    }\n",
       "</style>\n",
       "<table border=\"1\" class=\"dataframe\">\n",
       "  <thead>\n",
       "    <tr style=\"text-align: right;\">\n",
       "      <th></th>\n",
       "      <th>id</th>\n",
       "      <th>Age</th>\n",
       "      <th>Driving_License</th>\n",
       "      <th>Region_Code</th>\n",
       "      <th>Previously_Insured</th>\n",
       "      <th>Annual_Premium</th>\n",
       "      <th>Policy_Sales_Channel</th>\n",
       "      <th>Vintage</th>\n",
       "      <th>Response</th>\n",
       "    </tr>\n",
       "  </thead>\n",
       "  <tbody>\n",
       "    <tr>\n",
       "      <th>count</th>\n",
       "      <td>382154.000000</td>\n",
       "      <td>382154.000000</td>\n",
       "      <td>382154.000000</td>\n",
       "      <td>382154.000000</td>\n",
       "      <td>382154.000000</td>\n",
       "      <td>382154.000000</td>\n",
       "      <td>382154.000000</td>\n",
       "      <td>382154.000000</td>\n",
       "      <td>382154.000000</td>\n",
       "    </tr>\n",
       "    <tr>\n",
       "      <th>mean</th>\n",
       "      <td>234392.953477</td>\n",
       "      <td>38.545691</td>\n",
       "      <td>0.998108</td>\n",
       "      <td>26.406867</td>\n",
       "      <td>0.489182</td>\n",
       "      <td>30711.271362</td>\n",
       "      <td>111.939812</td>\n",
       "      <td>154.189429</td>\n",
       "      <td>0.163811</td>\n",
       "    </tr>\n",
       "    <tr>\n",
       "      <th>std</th>\n",
       "      <td>139527.487326</td>\n",
       "      <td>15.226897</td>\n",
       "      <td>0.043455</td>\n",
       "      <td>13.181241</td>\n",
       "      <td>0.499884</td>\n",
       "      <td>17061.595532</td>\n",
       "      <td>54.286511</td>\n",
       "      <td>83.735107</td>\n",
       "      <td>0.370104</td>\n",
       "    </tr>\n",
       "    <tr>\n",
       "      <th>min</th>\n",
       "      <td>1.000000</td>\n",
       "      <td>20.000000</td>\n",
       "      <td>0.000000</td>\n",
       "      <td>0.000000</td>\n",
       "      <td>0.000000</td>\n",
       "      <td>2630.000000</td>\n",
       "      <td>1.000000</td>\n",
       "      <td>10.000000</td>\n",
       "      <td>0.000000</td>\n",
       "    </tr>\n",
       "    <tr>\n",
       "      <th>25%</th>\n",
       "      <td>115006.250000</td>\n",
       "      <td>25.000000</td>\n",
       "      <td>1.000000</td>\n",
       "      <td>15.000000</td>\n",
       "      <td>0.000000</td>\n",
       "      <td>24546.000000</td>\n",
       "      <td>26.000000</td>\n",
       "      <td>81.000000</td>\n",
       "      <td>0.000000</td>\n",
       "    </tr>\n",
       "    <tr>\n",
       "      <th>50%</th>\n",
       "      <td>230461.500000</td>\n",
       "      <td>36.000000</td>\n",
       "      <td>1.000000</td>\n",
       "      <td>28.000000</td>\n",
       "      <td>0.000000</td>\n",
       "      <td>31692.000000</td>\n",
       "      <td>145.000000</td>\n",
       "      <td>154.000000</td>\n",
       "      <td>0.000000</td>\n",
       "    </tr>\n",
       "    <tr>\n",
       "      <th>75%</th>\n",
       "      <td>345434.750000</td>\n",
       "      <td>49.000000</td>\n",
       "      <td>1.000000</td>\n",
       "      <td>35.000000</td>\n",
       "      <td>1.000000</td>\n",
       "      <td>39447.750000</td>\n",
       "      <td>152.000000</td>\n",
       "      <td>227.000000</td>\n",
       "      <td>0.000000</td>\n",
       "    </tr>\n",
       "    <tr>\n",
       "      <th>max</th>\n",
       "      <td>508145.000000</td>\n",
       "      <td>85.000000</td>\n",
       "      <td>1.000000</td>\n",
       "      <td>52.000000</td>\n",
       "      <td>1.000000</td>\n",
       "      <td>540165.000000</td>\n",
       "      <td>163.000000</td>\n",
       "      <td>299.000000</td>\n",
       "      <td>1.000000</td>\n",
       "    </tr>\n",
       "  </tbody>\n",
       "</table>\n",
       "</div>"
      ],
      "text/plain": [
       "                  id            Age  Driving_License    Region_Code  \\\n",
       "count  382154.000000  382154.000000    382154.000000  382154.000000   \n",
       "mean   234392.953477      38.545691         0.998108      26.406867   \n",
       "std    139527.487326      15.226897         0.043455      13.181241   \n",
       "min         1.000000      20.000000         0.000000       0.000000   \n",
       "25%    115006.250000      25.000000         1.000000      15.000000   \n",
       "50%    230461.500000      36.000000         1.000000      28.000000   \n",
       "75%    345434.750000      49.000000         1.000000      35.000000   \n",
       "max    508145.000000      85.000000         1.000000      52.000000   \n",
       "\n",
       "       Previously_Insured  Annual_Premium  Policy_Sales_Channel  \\\n",
       "count       382154.000000   382154.000000         382154.000000   \n",
       "mean             0.489182    30711.271362            111.939812   \n",
       "std              0.499884    17061.595532             54.286511   \n",
       "min              0.000000     2630.000000              1.000000   \n",
       "25%              0.000000    24546.000000             26.000000   \n",
       "50%              0.000000    31692.000000            145.000000   \n",
       "75%              1.000000    39447.750000            152.000000   \n",
       "max              1.000000   540165.000000            163.000000   \n",
       "\n",
       "             Vintage       Response  \n",
       "count  382154.000000  382154.000000  \n",
       "mean      154.189429       0.163811  \n",
       "std        83.735107       0.370104  \n",
       "min        10.000000       0.000000  \n",
       "25%        81.000000       0.000000  \n",
       "50%       154.000000       0.000000  \n",
       "75%       227.000000       0.000000  \n",
       "max       299.000000       1.000000  "
      ]
     },
     "execution_count": 4,
     "metadata": {},
     "output_type": "execute_result"
    }
   ],
   "source": [
    "data.describe()"
   ]
  },
  {
   "cell_type": "code",
   "execution_count": 5,
   "id": "ad2fec42",
   "metadata": {},
   "outputs": [
    {
     "data": {
      "text/plain": [
       "id                      False\n",
       "Gender                  False\n",
       "Age                     False\n",
       "Driving_License         False\n",
       "Region_Code             False\n",
       "Previously_Insured      False\n",
       "Vehicle_Age             False\n",
       "Vehicle_Damage          False\n",
       "Annual_Premium          False\n",
       "Policy_Sales_Channel    False\n",
       "Vintage                 False\n",
       "Response                False\n",
       "dtype: bool"
      ]
     },
     "execution_count": 5,
     "metadata": {},
     "output_type": "execute_result"
    }
   ],
   "source": [
    "# check for null values in the dataset\n",
    "data.isnull().any()"
   ]
  },
  {
   "cell_type": "code",
   "execution_count": 6,
   "id": "cefa8bed",
   "metadata": {},
   "outputs": [
    {
     "data": {
      "text/plain": [
       "0    319553\n",
       "1     62601\n",
       "Name: Response, dtype: int64"
      ]
     },
     "execution_count": 6,
     "metadata": {},
     "output_type": "execute_result"
    }
   ],
   "source": [
    "# Target variable analysis\n",
    "data.Response.value_counts()"
   ]
  },
  {
   "cell_type": "code",
   "execution_count": 7,
   "id": "50c909ce",
   "metadata": {},
   "outputs": [
    {
     "data": {
      "text/plain": [
       "<matplotlib.axes._subplots.AxesSubplot at 0x2881001f250>"
      ]
     },
     "execution_count": 7,
     "metadata": {},
     "output_type": "execute_result"
    },
    {
     "data": {
      "image/png": "[encoded data removed]",
      "text/plain": [
       "<Figure size 432x288 with 1 Axes>"
      ]
     },
     "metadata": {},
     "output_type": "display_data"
    }
   ],
   "source": [
    "import matplotlib.pyplot as plt\n",
    "\n",
    "data.Response.value_counts().plot.pie(explode=[0,0.1], autopct=\"%1.1f%%\", shadow=True)"
   ]
  },
  {
   "cell_type": "code",
   "execution_count": 8,
   "id": "f06721f6",
   "metadata": {},
   "outputs": [
    {
     "name": "stdout",
     "output_type": "stream",
     "text": [
      "(338334, 12)\n"
     ]
    },
    {
     "data": {
      "text/plain": [
       "<matplotlib.axes._subplots.AxesSubplot at 0x288120e1a90>"
      ]
     },
     "execution_count": 8,
     "metadata": {},
     "output_type": "execute_result"
    },
    {
     "data": {
      "image/png": "[encoded data removed]",
      "text/plain": [
       "<Figure size 432x288 with 1 Axes>"
      ]
     },
     "metadata": {},
     "output_type": "display_data"
    }
   ],
   "source": [
    "# Drop Positive values from the dataset to increase the imbalance ratio to 95:5\n",
    "data2 = data[data[\"Response\"]==1]\n",
    "n_drop = int(.70 * len(data2))\n",
    "drop_ind = np.random.choice(data2.index, n_drop, replace=False)\n",
    "data_s = data.drop(drop_ind)\n",
    "\n",
    "print(data_s.shape)\n",
    "data_s.Response.value_counts().plot.pie(explode=[0,0.1], autopct=\"%1.1f%%\", shadow=True)"
   ]
  },
  {
   "cell_type": "code",
   "execution_count": 9,
   "id": "ae8a4f86",
   "metadata": {},
   "outputs": [
    {
     "data": {
      "text/html": [
       "<div>\n",
       "<style scoped>\n",
       "    .dataframe tbody tr th:only-of-type {\n",
       "        vertical-align: middle;\n",
       "    }\n",
       "\n",
       "    .dataframe tbody tr th {\n",
       "        vertical-align: top;\n",
       "    }\n",
       "\n",
       "    .dataframe thead th {\n",
       "        text-align: right;\n",
       "    }\n",
       "</style>\n",
       "<table border=\"1\" class=\"dataframe\">\n",
       "  <thead>\n",
       "    <tr style=\"text-align: right;\">\n",
       "      <th></th>\n",
       "      <th>Final Data</th>\n",
       "      <th>Outlier</th>\n",
       "    </tr>\n",
       "  </thead>\n",
       "  <tbody>\n",
       "    <tr>\n",
       "      <th>0</th>\n",
       "      <td>310862</td>\n",
       "      <td>8691</td>\n",
       "    </tr>\n",
       "    <tr>\n",
       "      <th>1</th>\n",
       "      <td>18119</td>\n",
       "      <td>662</td>\n",
       "    </tr>\n",
       "  </tbody>\n",
       "</table>\n",
       "</div>"
      ],
      "text/plain": [
       "   Final Data  Outlier\n",
       "0      310862     8691\n",
       "1       18119      662"
      ]
     },
     "execution_count": 9,
     "metadata": {},
     "output_type": "execute_result"
    }
   ],
   "source": [
    "# Remove outliers\n",
    "q1 = np.quantile(data_s.Annual_Premium, 0.25)\n",
    "q3 = np.quantile(data_s.Annual_Premium, 0.75)\n",
    "iqr = q3 - q1\n",
    "\n",
    "outlier = data_s[(data_s.Annual_Premium < q1-1.5*iqr) | (data_s.Annual_Premium > q3+1.5*iqr)]\n",
    "trimmed = data_s[(data_s.Annual_Premium > q1-1.5*iqr) & (data_s.Annual_Premium < q3+1.5*iqr)]\n",
    "\n",
    "# outlier.Response.value_counts()\n",
    "pd.DataFrame({\"Final Data\":[len(trimmed[trimmed.Response==0]), len(trimmed[trimmed.Response==1])],\n",
    "                \"Outlier\":[len(outlier[outlier.Response==0]), len(outlier[outlier.Response==1])]})"
   ]
  },
  {
   "cell_type": "code",
   "execution_count": 10,
   "id": "e184999d",
   "metadata": {},
   "outputs": [],
   "source": [
    "# Feature Engineering\n",
    "trimmed.loc[data_s.Gender==\"Male\", \"Gender\"] = 1\n",
    "trimmed.loc[data_s.Gender==\"Female\", \"Gender\"] = 0\n",
    "trimmed.Gender = trimmed.Gender.astype(int)\n",
    "\n",
    "trimmed.loc[data.Vehicle_Age == \"< 1 Year\", \"Vehicle_Age\"] = 0\n",
    "trimmed.loc[data.Vehicle_Age == \"1-2 Year\", \"Vehicle_Age\"] = 1\n",
    "trimmed.loc[data.Vehicle_Age == \"> 2 Years\", \"Vehicle_Age\"] = 2\n",
    "trimmed.Vehicle_Age = trimmed.Vehicle_Age.astype(int)\n",
    "\n",
    "trimmed.loc[data.Vehicle_Damage == \"No\", \"Vehicle_Damage\"] = 0\n",
    "trimmed.loc[data.Vehicle_Damage == \"Yes\", \"Vehicle_Damage\"] = 1\n",
    "trimmed.Vehicle_Damage = trimmed.Vehicle_Damage.astype(int)"
   ]
  },
  {
   "cell_type": "code",
   "execution_count": null,
   "id": "b626a435",
   "metadata": {},
   "outputs": [],
   "source": [
    "trimmed.drop([\"id\"], axis=1, inplace=True)\n",
    "trimmed.Region_Code = trimmed[\"Region_Code\"].astype(int)\n",
    "trimmed.head()"
   ]
  },
  {
   "cell_type": "code",
   "execution_count": 11,
   "id": "2f2d5bc2",
   "metadata": {},
   "outputs": [
    {
     "data": {
      "text/html": [
       "<div>\n",
       "<style scoped>\n",
       "    .dataframe tbody tr th:only-of-type {\n",
       "        vertical-align: middle;\n",
       "    }\n",
       "\n",
       "    .dataframe tbody tr th {\n",
       "        vertical-align: top;\n",
       "    }\n",
       "\n",
       "    .dataframe thead th {\n",
       "        text-align: right;\n",
       "    }\n",
       "</style>\n",
       "<table border=\"1\" class=\"dataframe\">\n",
       "  <thead>\n",
       "    <tr style=\"text-align: right;\">\n",
       "      <th></th>\n",
       "      <th>id</th>\n",
       "      <th>Gender</th>\n",
       "      <th>Age</th>\n",
       "      <th>Driving_License</th>\n",
       "      <th>Region_Code</th>\n",
       "      <th>Previously_Insured</th>\n",
       "      <th>Vehicle_Age</th>\n",
       "      <th>Vehicle_Damage</th>\n",
       "      <th>Annual_Premium</th>\n",
       "      <th>Policy_Sales_Channel</th>\n",
       "      <th>Vintage</th>\n",
       "      <th>Response</th>\n",
       "    </tr>\n",
       "  </thead>\n",
       "  <tbody>\n",
       "    <tr>\n",
       "      <th>0</th>\n",
       "      <td>167647</td>\n",
       "      <td>1</td>\n",
       "      <td>22</td>\n",
       "      <td>1</td>\n",
       "      <td>7.0</td>\n",
       "      <td>1</td>\n",
       "      <td>0</td>\n",
       "      <td>0</td>\n",
       "      <td>2630.0</td>\n",
       "      <td>152.0</td>\n",
       "      <td>16</td>\n",
       "      <td>0</td>\n",
       "    </tr>\n",
       "    <tr>\n",
       "      <th>1</th>\n",
       "      <td>17163</td>\n",
       "      <td>1</td>\n",
       "      <td>42</td>\n",
       "      <td>1</td>\n",
       "      <td>28.0</td>\n",
       "      <td>0</td>\n",
       "      <td>1</td>\n",
       "      <td>1</td>\n",
       "      <td>43327.0</td>\n",
       "      <td>26.0</td>\n",
       "      <td>135</td>\n",
       "      <td>0</td>\n",
       "    </tr>\n",
       "    <tr>\n",
       "      <th>2</th>\n",
       "      <td>32023</td>\n",
       "      <td>0</td>\n",
       "      <td>66</td>\n",
       "      <td>1</td>\n",
       "      <td>33.0</td>\n",
       "      <td>0</td>\n",
       "      <td>1</td>\n",
       "      <td>1</td>\n",
       "      <td>35841.0</td>\n",
       "      <td>124.0</td>\n",
       "      <td>253</td>\n",
       "      <td>0</td>\n",
       "    </tr>\n",
       "    <tr>\n",
       "      <th>3</th>\n",
       "      <td>87447</td>\n",
       "      <td>0</td>\n",
       "      <td>22</td>\n",
       "      <td>1</td>\n",
       "      <td>33.0</td>\n",
       "      <td>0</td>\n",
       "      <td>0</td>\n",
       "      <td>0</td>\n",
       "      <td>27645.0</td>\n",
       "      <td>152.0</td>\n",
       "      <td>69</td>\n",
       "      <td>0</td>\n",
       "    </tr>\n",
       "    <tr>\n",
       "      <th>4</th>\n",
       "      <td>501933</td>\n",
       "      <td>1</td>\n",
       "      <td>28</td>\n",
       "      <td>1</td>\n",
       "      <td>46.0</td>\n",
       "      <td>1</td>\n",
       "      <td>0</td>\n",
       "      <td>0</td>\n",
       "      <td>29023.0</td>\n",
       "      <td>152.0</td>\n",
       "      <td>211</td>\n",
       "      <td>0</td>\n",
       "    </tr>\n",
       "  </tbody>\n",
       "</table>\n",
       "</div>"
      ],
      "text/plain": [
       "       id  Gender  Age  Driving_License  Region_Code  Previously_Insured  \\\n",
       "0  167647       1   22                1          7.0                   1   \n",
       "1   17163       1   42                1         28.0                   0   \n",
       "2   32023       0   66                1         33.0                   0   \n",
       "3   87447       0   22                1         33.0                   0   \n",
       "4  501933       1   28                1         46.0                   1   \n",
       "\n",
       "   Vehicle_Age  Vehicle_Damage  Annual_Premium  Policy_Sales_Channel  Vintage  \\\n",
       "0            0               0          2630.0                 152.0       16   \n",
       "1            1               1         43327.0                  26.0      135   \n",
       "2            1               1         35841.0                 124.0      253   \n",
       "3            0               0         27645.0                 152.0       69   \n",
       "4            0               0         29023.0                 152.0      211   \n",
       "\n",
       "   Response  \n",
       "0         0  \n",
       "1         0  \n",
       "2         0  \n",
       "3         0  \n",
       "4         0  "
      ]
     },
     "execution_count": 11,
     "metadata": {},
     "output_type": "execute_result"
    }
   ],
   "source": [
    "trimmed.head()"
   ]
  },
  {
   "cell_type": "code",
   "execution_count": 12,
   "id": "9e78d174",
   "metadata": {},
   "outputs": [
    {
     "data": {
      "text/html": [
       "<div>\n",
       "<style scoped>\n",
       "    .dataframe tbody tr th:only-of-type {\n",
       "        vertical-align: middle;\n",
       "    }\n",
       "\n",
       "    .dataframe tbody tr th {\n",
       "        vertical-align: top;\n",
       "    }\n",
       "\n",
       "    .dataframe thead th {\n",
       "        text-align: right;\n",
       "    }\n",
       "</style>\n",
       "<table border=\"1\" class=\"dataframe\">\n",
       "  <thead>\n",
       "    <tr style=\"text-align: right;\">\n",
       "      <th></th>\n",
       "      <th>Gender</th>\n",
       "      <th>Age</th>\n",
       "      <th>Driving_License</th>\n",
       "      <th>Region_Code</th>\n",
       "      <th>Previously_Insured</th>\n",
       "      <th>Vehicle_Age</th>\n",
       "      <th>Vehicle_Damage</th>\n",
       "      <th>Annual_Premium</th>\n",
       "      <th>Policy_Sales_Channel</th>\n",
       "      <th>Vintage</th>\n",
       "      <th>Response</th>\n",
       "    </tr>\n",
       "  </thead>\n",
       "  <tbody>\n",
       "    <tr>\n",
       "      <th>0</th>\n",
       "      <td>1</td>\n",
       "      <td>22</td>\n",
       "      <td>1</td>\n",
       "      <td>7</td>\n",
       "      <td>1</td>\n",
       "      <td>0</td>\n",
       "      <td>0</td>\n",
       "      <td>2630.0</td>\n",
       "      <td>152.0</td>\n",
       "      <td>16</td>\n",
       "      <td>0</td>\n",
       "    </tr>\n",
       "    <tr>\n",
       "      <th>1</th>\n",
       "      <td>1</td>\n",
       "      <td>42</td>\n",
       "      <td>1</td>\n",
       "      <td>28</td>\n",
       "      <td>0</td>\n",
       "      <td>1</td>\n",
       "      <td>1</td>\n",
       "      <td>43327.0</td>\n",
       "      <td>26.0</td>\n",
       "      <td>135</td>\n",
       "      <td>0</td>\n",
       "    </tr>\n",
       "    <tr>\n",
       "      <th>2</th>\n",
       "      <td>0</td>\n",
       "      <td>66</td>\n",
       "      <td>1</td>\n",
       "      <td>33</td>\n",
       "      <td>0</td>\n",
       "      <td>1</td>\n",
       "      <td>1</td>\n",
       "      <td>35841.0</td>\n",
       "      <td>124.0</td>\n",
       "      <td>253</td>\n",
       "      <td>0</td>\n",
       "    </tr>\n",
       "    <tr>\n",
       "      <th>3</th>\n",
       "      <td>0</td>\n",
       "      <td>22</td>\n",
       "      <td>1</td>\n",
       "      <td>33</td>\n",
       "      <td>0</td>\n",
       "      <td>0</td>\n",
       "      <td>0</td>\n",
       "      <td>27645.0</td>\n",
       "      <td>152.0</td>\n",
       "      <td>69</td>\n",
       "      <td>0</td>\n",
       "    </tr>\n",
       "    <tr>\n",
       "      <th>4</th>\n",
       "      <td>1</td>\n",
       "      <td>28</td>\n",
       "      <td>1</td>\n",
       "      <td>46</td>\n",
       "      <td>1</td>\n",
       "      <td>0</td>\n",
       "      <td>0</td>\n",
       "      <td>29023.0</td>\n",
       "      <td>152.0</td>\n",
       "      <td>211</td>\n",
       "      <td>0</td>\n",
       "    </tr>\n",
       "  </tbody>\n",
       "</table>\n",
       "</div>"
      ],
      "text/plain": [
       "   Gender  Age  Driving_License  Region_Code  Previously_Insured  Vehicle_Age  \\\n",
       "0       1   22                1            7                   1            0   \n",
       "1       1   42                1           28                   0            1   \n",
       "2       0   66                1           33                   0            1   \n",
       "3       0   22                1           33                   0            0   \n",
       "4       1   28                1           46                   1            0   \n",
       "\n",
       "   Vehicle_Damage  Annual_Premium  Policy_Sales_Channel  Vintage  Response  \n",
       "0               0          2630.0                 152.0       16         0  \n",
       "1               1         43327.0                  26.0      135         0  \n",
       "2               1         35841.0                 124.0      253         0  \n",
       "3               0         27645.0                 152.0       69         0  \n",
       "4               0         29023.0                 152.0      211         0  "
      ]
     },
     "execution_count": 12,
     "metadata": {},
     "output_type": "execute_result"
    }
   ],
   "source": [
    "# this is an additional step\n",
    "# You can uncomment this piece of code, and check if converting some features into\n",
    "# intervals improves the results or not\n",
    "\n",
    "\n",
    "# trimmed[\"Age_range\"] = pd.qcut(data.Age, 5, labels=[0,1,2,3,4])\n",
    "# trimmed[\"Annual_Premium_range\"] = pd.qcut(data.Annual_Premium, 5, labels=[0,1,2,3,4])\n",
    "# trimmed[\"Vintage_range\"] = pd.qcut(data.Vintage, 5, labels=[0,1,2,3,4])\n",
    "\n",
    "# trimmed[\"Age_range\"] = trimmed[\"Age_range\"].astype(int)\n",
    "# trimmed[\"Annual_Premium_range\"] = trimmed[\"Age_range\"].astype(int)\n",
    "# trimmed[\"Vintage_range\"] = trimmed[\"Vintage_range\"].astype(int)\n",
    "\n",
    "# trimmed.drop(\"Age\", axis=1, inplace=True)\n",
    "# trimmed.drop(\"Annual_Premium\", axis=1, inplace=True)\n",
    "# trimmed.drop(\"Vintage\", axis=1, inplace=True)"
   ]
  },
  {
   "cell_type": "code",
   "execution_count": 31,
   "id": "aacefe98",
   "metadata": {
    "scrolled": true
   },
   "outputs": [
    {
     "data": {
      "image/png": "[encoded data removed]",
      "text/plain": [
       "<Figure size 720x720 with 2 Axes>"
      ]
     },
     "metadata": {
      "needs_background": "light"
     },
     "output_type": "display_data"
    }
   ],
   "source": [
    "# Heatmap\n",
    "\n",
    "import seaborn as sns\n",
    "import matplotlib.pyplot as plt\n",
    "\n",
    "plt.figure(figsize=(10,10))\n",
    "sns.heatmap(trimmed.corr(), annot=True)\n",
    "plt.show()"
   ]
  },
  {
   "cell_type": "code",
   "execution_count": 14,
   "id": "fd773f62",
   "metadata": {},
   "outputs": [
    {
     "name": "stdout",
     "output_type": "stream",
     "text": [
      "training data: (230286, 10)\n",
      "test data: (98695, 10)\n"
     ]
    }
   ],
   "source": [
    "# Modelling\n",
    "from sklearn.model_selection import train_test_split\n",
    "trimmed_x, trimmed_y = trimmed.drop([\"Response\"], axis=1), trimmed[\"Response\"]\n",
    "\n",
    "train_x, test_x, train_y, test_y = train_test_split(trimmed_x, trimmed_y, test_size = 0.3)\n",
    "print(f\"training data: {train_x.shape}\\ntest data: {test_x.shape}\")"
   ]
  },
  {
   "cell_type": "code",
   "execution_count": 15,
   "id": "f7094a78",
   "metadata": {},
   "outputs": [],
   "source": [
    "# Model Evaluation\n",
    "\n",
    "from sklearn.linear_model import LogisticRegression\n",
    "from sklearn.neighbors import KNeighborsClassifier\n",
    "from sklearn.ensemble import RandomForestClassifier\n",
    "from sklearn.naive_bayes import GaussianNB\n",
    "from sklearn.tree import DecisionTreeClassifier\n",
    "from sklearn.svm import SVC\n",
    "\n",
    "from sklearn.metrics import f1_score\n",
    "\n",
    "def evaluate(train_x, test_x, train_y, test_y):\n",
    "    model1 = LogisticRegression().fit(train_x, train_y)\n",
    "    model2 = KNeighborsClassifier().fit(train_x, train_y)\n",
    "    model3 = GaussianNB().fit(train_x, train_y)\n",
    "    model4 = DecisionTreeClassifier().fit(train_x, train_y)\n",
    "    model5 = RandomForestClassifier().fit(train_x, train_y)\n",
    "    \n",
    "    \n",
    "    m1_eval = f1_score(model1.predict(test_x),test_y)\n",
    "    m2_eval = f1_score(model2.predict(test_x),test_y)\n",
    "    m3_eval = f1_score(model3.predict(test_x),test_y)\n",
    "    m4_eval = f1_score(model4.predict(test_x),test_y)\n",
    "    m5_eval = f1_score(model5.predict(test_x), test_y)\n",
    "    \n",
    "    print(f\"Logistic_r: {m1_eval}\\nKNN: {m2_eval}\\nNaive bayes: {m3_eval}\\nDecision Tree Classifier: {m4_eval}\\nRandom Forest Classifier: {m5_eval}\")    "
   ]
  },
  {
   "cell_type": "code",
   "execution_count": 16,
   "id": "12ecbd23",
   "metadata": {},
   "outputs": [
    {
     "name": "stdout",
     "output_type": "stream",
     "text": [
      "Logistic_r: 0.0\n",
      "KNN: 0.025439330543933058\n",
      "Naive bayes: 0.24879243962198114\n",
      "Decision Tree Classifier: 0.21098366353840808\n",
      "Random Forest Classifier: 0.06278613472858077\n"
     ]
    }
   ],
   "source": [
    "# evaluation on imbalanced data\n",
    "evaluate(train_x, test_x, train_y, test_y)"
   ]
  },
  {
   "cell_type": "code",
   "execution_count": 17,
   "id": "f24c48de",
   "metadata": {},
   "outputs": [
    {
     "data": {
      "text/plain": [
       "Counter({0: 217562, 1: 12724})"
      ]
     },
     "execution_count": 17,
     "metadata": {},
     "output_type": "execute_result"
    }
   ],
   "source": [
    "# Checking Response disribution\n",
    "from collections import Counter\n",
    "\n",
    "Counter(train_y)"
   ]
  },
  {
   "cell_type": "code",
   "execution_count": 22,
   "id": "5293b600",
   "metadata": {},
   "outputs": [
    {
     "name": "stdout",
     "output_type": "stream",
     "text": [
      "Random oversampled data distribution Counter({0: 217562, 1: 217562})\n",
      "Logistic_r: 0.24798905083199274\n",
      "KNN: 0.13887909763835035\n",
      "Naive bayes: 0.26618185707028846\n",
      "Decision Tree Classifier: 0.2583493282149712\n",
      "Random Forest Classifier: 0.28817536460035054\n"
     ]
    }
   ],
   "source": [
    "            #### Oversample #####\n",
    "from imblearn.over_sampling import RandomOverSampler\n",
    "\n",
    "over_sampler = RandomOverSampler(sampling_strategy='minority')\n",
    "os_x, os_y = over_sampler.fit_resample(train_x, train_y)\n",
    "print(\"Random oversampled data distribution\", Counter(os_y))\n",
    "evaluate(us_x, test_x, us_y, test_y)"
   ]
  },
  {
   "cell_type": "code",
   "execution_count": 23,
   "id": "3d924607",
   "metadata": {},
   "outputs": [
    {
     "name": "stdout",
     "output_type": "stream",
     "text": [
      "SMOTE oversampled data distribution Counter({0: 217562, 1: 217562})\n",
      "Logistic_r: 0.24798905083199274\n",
      "KNN: 0.13887909763835035\n",
      "Naive bayes: 0.26618185707028846\n",
      "Decision Tree Classifier: 0.2584190683110742\n",
      "Random Forest Classifier: 0.28948308718437354\n"
     ]
    }
   ],
   "source": [
    "from imblearn.over_sampling import SMOTE\n",
    "\n",
    "smote = SMOTE()\n",
    "os_x, os_y = smote.fit_resample(train_x, train_y)\n",
    "print(\"SMOTE oversampled data distribution\", Counter(os_y))\n",
    "evaluate(us_x, test_x, us_y, test_y)"
   ]
  },
  {
   "cell_type": "code",
   "execution_count": 24,
   "id": "bb061b8a",
   "metadata": {},
   "outputs": [
    {
     "name": "stdout",
     "output_type": "stream",
     "text": [
      "Random undersampled data distribution Counter({0: 12724, 1: 12724})\n",
      "Logistic_r: 0.24798905083199274\n",
      "KNN: 0.13887909763835035\n",
      "Naive bayes: 0.26618185707028846\n",
      "Decision Tree Classifier: 0.25805832079638935\n",
      "Random Forest Classifier: 0.2894343011074529\n"
     ]
    }
   ],
   "source": [
    "            ### Undersample ####\n",
    "\n",
    "from imblearn.under_sampling import RandomUnderSampler\n",
    "rus = RandomUnderSampler(random_state=0)\n",
    "us_x, us_y = rus.fit_resample(train_x, train_y)\n",
    "print(\"Random undersampled data distribution\", Counter(us_y))\n",
    "evaluate(us_x, test_x, us_y, test_y)"
   ]
  },
  {
   "cell_type": "code",
   "execution_count": 25,
   "id": "24df8453",
   "metadata": {},
   "outputs": [
    {
     "name": "stdout",
     "output_type": "stream",
     "text": [
      "AllKNN undersampled data distribution Counter({0: 177891, 1: 12724})\n",
      "Logistic_r: 0.06596995427824952\n",
      "KNN: 0.10707570509648691\n",
      "Naive bayes: 0.2439665597560334\n",
      "Decision Tree Classifier: 0.23697709703056136\n",
      "Random Forest Classifier: 0.1656387665198238\n"
     ]
    }
   ],
   "source": [
    "from imblearn.under_sampling import AllKNN\n",
    "KNN = AllKNN()\n",
    "us_x, us_y = KNN.fit_resample(train_x, train_y)\n",
    "print(\"AllKNN undersampled data distribution\", Counter(us_y))\n",
    "evaluate(us_x, test_x, us_y, test_y)"
   ]
  },
  {
   "cell_type": "code",
   "execution_count": 27,
   "id": "a3731d64",
   "metadata": {},
   "outputs": [
    {
     "name": "stdout",
     "output_type": "stream",
     "text": [
      "Random undersampling + SMOTE data distribution Counter({0: 42413, 1: 42413})\n",
      "Logistic_r: 0.1399739120123325\n",
      "KNN: 0.14681799948087496\n",
      "Naive bayes: 0.2698516579406632\n",
      "Decision Tree Classifier: 0.2634638675817521\n",
      "Random Forest Classifier: 0.3134613912910385\n"
     ]
    }
   ],
   "source": [
    "# SMOTE Over sampling + Random under sampling\n",
    "\n",
    "us_x, us_y = RandomUnderSampler(random_state=0, sampling_strategy=0.3).fit_resample(train_x, train_y)\n",
    "os_x, os_y = SMOTE().fit_resample(us_x, us_y)\n",
    "\n",
    "print(\"Random undersampling + SMOTE data distribution\", Counter(os_y))\n",
    "evaluate(os_x, test_x, os_y, test_y)"
   ]
  },
  {
   "cell_type": "code",
   "execution_count": 28,
   "id": "aad24d6f",
   "metadata": {},
   "outputs": [
    {
     "name": "stdout",
     "output_type": "stream",
     "text": [
      "SMOTEENN distribution Counter({1: 196815, 0: 155359})\n",
      "Logistic_r: 0.1740979899978923\n",
      "KNN: 0.15263087428035885\n",
      "Naive bayes: 0.25695631898025806\n",
      "Decision Tree Classifier: 0.27551762595160745\n",
      "Random Forest Classifier: 0.31022076133789367\n"
     ]
    }
   ],
   "source": [
    "# SMOTE oversampling + Nearest Neighbors undersampling\n",
    "from imblearn.combine import SMOTEENN\n",
    "\n",
    "sampled_x, sampled_y = SMOTEENN().fit_resample(train_x, train_y)\n",
    "\n",
    "print(\"SMOTEENN distribution\", Counter(sampled_y))\n",
    "evaluate(sampled_x, test_x, sampled_y, test_y)"
   ]
  },
  {
   "cell_type": "code",
   "execution_count": 29,
   "id": "0065eee7",
   "metadata": {},
   "outputs": [
    {
     "name": "stdout",
     "output_type": "stream",
     "text": [
      "SMOTE tomek distribution Counter({0: 214624, 1: 214624})\n",
      "Logistic_r: 0.2429123711340206\n",
      "KNN: 0.1554578553273339\n",
      "Naive bayes: 0.2721673510154256\n",
      "Decision Tree Classifier: 0.25423122765196665\n",
      "Random Forest Classifier: 0.2827484517841345\n"
     ]
    }
   ],
   "source": [
    "# SMOTE oversampling + Tomek links\n",
    "from imblearn.combine import SMOTETomek\n",
    "\n",
    "sampled_x, sampled_y = SMOTETomek().fit_resample(train_x, train_y)\n",
    "\n",
    "print(\"SMOTE tomek distribution\", Counter(sampled_y))\n",
    "evaluate(sampled_x, test_x, sampled_y, test_y)"
   ]
  },
  {
   "cell_type": "code",
   "execution_count": null,
   "id": "60027c89",
   "metadata": {},
   "outputs": [],
   "source": []
  }
 ],
 "metadata": {
  "kernelspec": {
   "display_name": "Python 3",
   "language": "python",
   "name": "python3"
  },
  "language_info": {
   "codemirror_mode": {
    "name": "ipython",
    "version": 3
   },
   "file_extension": ".py",
   "mimetype": "text/x-python",
   "name": "python",
   "nbconvert_exporter": "python",
   "pygments_lexer": "ipython3",
   "version": "3.8.6rc1"
  }
 },
 "nbformat": 4,
 "nbformat_minor": 5
}
